{
  "nbformat": 4,
  "nbformat_minor": 0,
  "metadata": {
    "colab": {
      "name": "24/9",
      "provenance": [],
      "authorship_tag": "ABX9TyNChjJUGX1UPsCDDNmGcsgV",
      "include_colab_link": true
    },
    "kernelspec": {
      "name": "python3",
      "display_name": "Python 3"
    }
  },
  "cells": [
    {
      "cell_type": "markdown",
      "metadata": {
        "id": "view-in-github",
        "colab_type": "text"
      },
      "source": [
        "<a href=\"https://colab.research.google.com/github/oliverlen122/hello-world/blob/master/24_9.ipynb\" target=\"_parent\"><img src=\"https://colab.research.google.com/assets/colab-badge.svg\" alt=\"Open In Colab\"/></a>"
      ]
    },
    {
      "cell_type": "code",
      "metadata": {
        "id": "hk33NzAOYFEf",
        "colab_type": "code",
        "colab": {
          "base_uri": "https://localhost:8080/",
          "height": 68
        },
        "outputId": "4e97068e-37f3-481d-9bf6-2d6e63b27e76"
      },
      "source": [
        "num1 = int(input(\"Enter a number\"))\n",
        "num2 = int(input(\"Enter another number\"))\n",
        "final = num1 + num2\n",
        "print(final)"
      ],
      "execution_count": null,
      "outputs": [
        {
          "output_type": "stream",
          "text": [
            "Enter a number48\n",
            "Enter another number12\n",
            "60\n"
          ],
          "name": "stdout"
        }
      ]
    },
    {
      "cell_type": "code",
      "metadata": {
        "id": "9I9I6wCsZEaj",
        "colab_type": "code",
        "colab": {
          "base_uri": "https://localhost:8080/",
          "height": 85
        },
        "outputId": "4e95c5ed-7489-4efd-aa4a-de18d17622f0"
      },
      "source": [
        "test1 = int(input(\"Enter the first test score\"))\n",
        "test2 = int(input(\"Enter the second test score\"))\n",
        "test3 = int(input(\"Enter the third test score\"))\n",
        "testAdd = test1 + test2 + test3\n",
        "testAvg = testAdd / 3\n",
        "print(testAvg)"
      ],
      "execution_count": null,
      "outputs": [
        {
          "output_type": "stream",
          "text": [
            "Enter the first test score48\n",
            "Enter the second test score25\n",
            "Enter the third test score96\n",
            "56.333333333333336\n"
          ],
          "name": "stdout"
        }
      ]
    },
    {
      "cell_type": "code",
      "metadata": {
        "id": "s7-8Z2a6Z2eU",
        "colab_type": "code",
        "colab": {
          "base_uri": "https://localhost:8080/",
          "height": 51
        },
        "outputId": "389ae494-a6dd-421b-80bc-734244091903"
      },
      "source": [
        "fahr = int(input(\"Enter a temperature in Fahrenheit to convert into Celcius\"))\n",
        "cent1 = fahr - 32\n",
        "cent2 = cent1 * 5 / 9\n",
        "print(cent2)"
      ],
      "execution_count": null,
      "outputs": [
        {
          "output_type": "stream",
          "text": [
            "Enter a temperature in Fahrenheit to convert into Celcius32\n",
            "0.0\n"
          ],
          "name": "stdout"
        }
      ]
    },
    {
      "cell_type": "code",
      "metadata": {
        "id": "AiYTJH0KbFkq",
        "colab_type": "code",
        "colab": {
          "base_uri": "https://localhost:8080/",
          "height": 68
        },
        "outputId": "8eee6c87-5e7f-4b5f-b85c-596cf961b3bb"
      },
      "source": [
        "cm = int(input(\"Enter your height in centimeters\"))\n",
        "kg = int(input(\"Enter your weight in kilograms\"))\n",
        "inc = cm / 2.54\n",
        "sto = kg / 6.364\n",
        "print(\"Your weight is \", sto, \"stones, and your height is \", inc, \"inches.\")"
      ],
      "execution_count": null,
      "outputs": [
        {
          "output_type": "stream",
          "text": [
            "Enter your height in centimeters188\n",
            "Enter your weight in kilograms88\n",
            "Your weight is  13.827781269641735 stones, and your height is  74.01574803149606 inches.\n"
          ],
          "name": "stdout"
        }
      ]
    },
    {
      "cell_type": "code",
      "metadata": {
        "id": "FREBpRgHcVY0",
        "colab_type": "code",
        "colab": {
          "base_uri": "https://localhost:8080/",
          "height": 68
        },
        "outputId": "b799e24b-72bc-4593-f8b2-c43676bb7256"
      },
      "source": [
        "hours = int(input(\"Enter how many hours worked.\"))\n",
        "bear = int(input(\"Enter the amount of bears made.\"))\n",
        "hourTotal = hours * 7\n",
        "bearTotal = bear * 0.45\n",
        "totalTotal = hourTotal + bearTotal\n",
        "print(\"You will get paid £\", totalTotal)"
      ],
      "execution_count": null,
      "outputs": [
        {
          "output_type": "stream",
          "text": [
            "Enter how many hours worked.8\n",
            "Enter the amount of bears made.8\n",
            "You will get paid £ 59.6\n"
          ],
          "name": "stdout"
        }
      ]
    },
    {
      "cell_type": "code",
      "metadata": {
        "id": "oD49iQx6dWL_",
        "colab_type": "code",
        "colab": {
          "base_uri": "https://localhost:8080/",
          "height": 119
        },
        "outputId": "36181d9f-1333-4aa0-fc7c-d6022d1b0a9b"
      },
      "source": [
        "dia = int(input(\"Enter the diameter of a circle\"))\n",
        "rad = dia / 2\n",
        "area = 3.14 * rad ** 2\n",
        "cir = 3.14 * dia\n",
        "arcA = int(input(\"Enter the arc angle of the circle\"))\n",
        "arcL = cir * arcA / 360\n",
        "print(\"The radius of this circle is \", rad)\n",
        "print(\"The area of this circle is \", area)\n",
        "print(\"The circumference of this circle is \", cir)\n",
        "print(\"The arc length of this circle is \", arcL)"
      ],
      "execution_count": null,
      "outputs": [
        {
          "output_type": "stream",
          "text": [
            "Enter the diameter of a circle10\n",
            "Enter the arc angle of the circle20\n",
            "The radius of this circle is  5.0\n",
            "The area of this circle is  78.5\n",
            "The circumference of this circle is  31.400000000000002\n",
            "The arc length of this circle is  1.7444444444444445\n"
          ],
          "name": "stdout"
        }
      ]
    }
  ]
}